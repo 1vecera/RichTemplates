{
 "cells": [
  {
   "cell_type": "code",
   "execution_count": 5,
   "metadata": {
    "vscode": {
     "languageId": "r"
    }
   },
   "outputs": [
    {
     "data": {
      "image/png": "[encoded data removed]",
      "text/plain": [
       "plot without title"
      ]
     },
     "metadata": {
      "image/png": {
       "height": 420,
       "width": 420
      }
     },
     "output_type": "display_data"
    }
   ],
   "source": [
    "# Install ggplot2 if not already installed\n",
    "if (!requireNamespace(\"ggplot2\", quietly = TRUE)) {\n",
    "  install.packages(\"ggplot2\")\n",
    "}\n",
    "\n",
    "\n",
    "# Load ggplot2 package\n",
    "library(ggplot2)\n",
    "windowsFonts(Palatino = windowsFont(\"Palatino Linotype\"))\n",
    "\n",
    "richview_theme <- function() {\n",
    "  theme(\n",
    "    plot.background = element_rect(fill = \"#FAF9F6\"),\n",
    "    panel.background = element_rect(fill = \"#FAF9F6\"),\n",
    "    panel.grid.major.x = element_blank(),\n",
    "    panel.grid.major.y = element_line(color = \"#CCC1B7\", size = 0.2),\n",
    "    panel.grid.minor = element_blank(),\n",
    "    axis.ticks.x = element_line(color = \"#4D4845\", size = 0.2),\n",
    "    axis.ticks.y = element_blank(),\n",
    "    axis.text.x = element_text(color = \"#4D4845\", size = 9.6, family = \"Palatino\"),\n",
    "    axis.text.y = element_text(color = \"#4D4845\", size = 9.6, family = \"Palatino\"),\n",
    "    axis.title.x = element_text(color = \"#4D4845\", size = 10.8, family = \"Palatino\"),\n",
    "    axis.title.y = element_text(color = \"#4D4845\", size = 10.8, family = \"Palatino\"),\n",
    "    legend.background = element_rect(fill = \"#FAF9F6\"),\n",
    "    legend.key =  element_rect(fill = \"#FAF9F6\"),\n",
    "    legend.position = c(0, 1.05),\n",
    "    legend.justification = c(0, 1),\n",
    "    legend.direction = \"horizontal\",\n",
    "    legend.title = element_blank(),\n",
    "    legend.text = element_text(size = 9.6, family = \"Palatino\"),\n",
    "    plot.title = element_text(size = 14.4, hjust = 0, family = \"Palatino\"),\n",
    "    plot.margin = margin(60, 60, 60, 60)\n",
    "  )\n",
    "}\n",
    "options(repr.plot.width = 7, repr.plot.height =7)\n",
    "\n",
    "data(mtcars)\n",
    "p <- ggplot(mtcars, aes(x = mpg, y = disp, color = factor(cyl))) +\n",
    "  geom_point() +\n",
    "  labs(title = \"Example Plot\", x = \"Miles per Gallon\", y = \"Displacement\") +\n",
    "  scale_color_manual(values = c(\"#186cac\", \"#81e7cc\", \"#eec8f1\", \"#dce475\", \"#86ec5a\", \"#eb70d5\", \"#829951\", \"#5a3386\", \"#a50fa9\", \"#4ba40b\")) +\n",
    "  richview_theme()\n",
    "\n",
    "\n",
    "p\n"
   ]
  },
  {
   "cell_type": "code",
   "execution_count": null,
   "metadata": {
    "vscode": {
     "languageId": "r"
    }
   },
   "outputs": [],
   "source": []
  }
 ],
 "metadata": {
  "kernelspec": {
   "display_name": "R",
   "language": "R",
   "name": "ir"
  },
  "language_info": {
   "codemirror_mode": "r",
   "file_extension": ".r",
   "mimetype": "text/x-r-source",
   "name": "R",
   "pygments_lexer": "r",
   "version": "4.2.1"
  },
  "orig_nbformat": 4
 },
 "nbformat": 4,
 "nbformat_minor": 2
}
